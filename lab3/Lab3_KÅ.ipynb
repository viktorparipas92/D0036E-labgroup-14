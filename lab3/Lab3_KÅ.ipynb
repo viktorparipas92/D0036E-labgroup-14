{
 "cells": [
  {
   "cell_type": "code",
   "execution_count": 1,
   "metadata": {},
   "outputs": [],
   "source": [
    "import pandas as pd\n",
    "import numpy as np"
   ]
  },
  {
   "cell_type": "code",
   "execution_count": 2,
   "metadata": {},
   "outputs": [],
   "source": [
    "# Load the income data CSV\n",
    "df_income = pd.read_csv(\"income_data.csv\", encoding=\"unicode_escape\")\n",
    "df_income[\"age\"] = pd.to_numeric(df_income.age.str.strip('+ years'))"
   ]
  },
  {
   "cell_type": "code",
   "execution_count": 3,
   "metadata": {},
   "outputs": [
    {
     "data": {
      "text/html": [
       "<div>\n",
       "<style scoped>\n",
       "    .dataframe tbody tr th:only-of-type {\n",
       "        vertical-align: middle;\n",
       "    }\n",
       "\n",
       "    .dataframe tbody tr th {\n",
       "        vertical-align: top;\n",
       "    }\n",
       "\n",
       "    .dataframe thead th {\n",
       "        text-align: right;\n",
       "    }\n",
       "</style>\n",
       "<table border=\"1\" class=\"dataframe\">\n",
       "  <thead>\n",
       "    <tr style=\"text-align: right;\">\n",
       "      <th></th>\n",
       "      <th>region</th>\n",
       "      <th>age</th>\n",
       "      <th>2020</th>\n",
       "    </tr>\n",
       "  </thead>\n",
       "  <tbody>\n",
       "    <tr>\n",
       "      <th>0</th>\n",
       "      <td>01 Stockholm county</td>\n",
       "      <td>16</td>\n",
       "      <td>4.6</td>\n",
       "    </tr>\n",
       "    <tr>\n",
       "      <th>1</th>\n",
       "      <td>01 Stockholm county</td>\n",
       "      <td>17</td>\n",
       "      <td>8.8</td>\n",
       "    </tr>\n",
       "    <tr>\n",
       "      <th>2</th>\n",
       "      <td>01 Stockholm county</td>\n",
       "      <td>18</td>\n",
       "      <td>17.8</td>\n",
       "    </tr>\n",
       "    <tr>\n",
       "      <th>3</th>\n",
       "      <td>01 Stockholm county</td>\n",
       "      <td>19</td>\n",
       "      <td>52.5</td>\n",
       "    </tr>\n",
       "    <tr>\n",
       "      <th>4</th>\n",
       "      <td>01 Stockholm county</td>\n",
       "      <td>20</td>\n",
       "      <td>112.0</td>\n",
       "    </tr>\n",
       "  </tbody>\n",
       "</table>\n",
       "</div>"
      ],
      "text/plain": [
       "                region  age   2020\n",
       "0  01 Stockholm county   16    4.6\n",
       "1  01 Stockholm county   17    8.8\n",
       "2  01 Stockholm county   18   17.8\n",
       "3  01 Stockholm county   19   52.5\n",
       "4  01 Stockholm county   20  112.0"
      ]
     },
     "execution_count": 3,
     "metadata": {},
     "output_type": "execute_result"
    }
   ],
   "source": [
    "# Have a look at the data to make sure it loaded correctly\n",
    "df_income.head()"
   ]
  },
  {
   "cell_type": "code",
   "execution_count": 4,
   "metadata": {},
   "outputs": [
    {
     "data": {
      "text/html": [
       "<div>\n",
       "<style scoped>\n",
       "    .dataframe tbody tr th:only-of-type {\n",
       "        vertical-align: middle;\n",
       "    }\n",
       "\n",
       "    .dataframe tbody tr th {\n",
       "        vertical-align: top;\n",
       "    }\n",
       "\n",
       "    .dataframe thead th {\n",
       "        text-align: right;\n",
       "    }\n",
       "</style>\n",
       "<table border=\"1\" class=\"dataframe\">\n",
       "  <thead>\n",
       "    <tr style=\"text-align: right;\">\n",
       "      <th></th>\n",
       "      <th>age</th>\n",
       "      <th>2020</th>\n",
       "    </tr>\n",
       "  </thead>\n",
       "  <tbody>\n",
       "    <tr>\n",
       "      <th>0</th>\n",
       "      <td>16</td>\n",
       "      <td>5.471429</td>\n",
       "    </tr>\n",
       "    <tr>\n",
       "      <th>1</th>\n",
       "      <td>17</td>\n",
       "      <td>10.552381</td>\n",
       "    </tr>\n",
       "    <tr>\n",
       "      <th>2</th>\n",
       "      <td>18</td>\n",
       "      <td>22.390476</td>\n",
       "    </tr>\n",
       "    <tr>\n",
       "      <th>3</th>\n",
       "      <td>19</td>\n",
       "      <td>65.376190</td>\n",
       "    </tr>\n",
       "    <tr>\n",
       "      <th>4</th>\n",
       "      <td>20</td>\n",
       "      <td>129.242857</td>\n",
       "    </tr>\n",
       "  </tbody>\n",
       "</table>\n",
       "</div>"
      ],
      "text/plain": [
       "   age        2020\n",
       "0   16    5.471429\n",
       "1   17   10.552381\n",
       "2   18   22.390476\n",
       "3   19   65.376190\n",
       "4   20  129.242857"
      ]
     },
     "execution_count": 4,
     "metadata": {},
     "output_type": "execute_result"
    }
   ],
   "source": [
    "# Group by age and get the mean income by age\n",
    "df_income_by_age = df_income.groupby('age')['2020'].mean().reset_index()\n",
    "df_income_by_age.head()"
   ]
  },
  {
   "cell_type": "markdown",
   "metadata": {},
   "source": [
    "## Task 1 - Linear regression with scikit-Learn"
   ]
  },
  {
   "cell_type": "code",
   "execution_count": 5,
   "metadata": {},
   "outputs": [
    {
     "name": "stdout",
     "output_type": "stream",
     "text": [
      "Coefficients: \n",
      " [-0.40557442]\n",
      "Mean squared error: 9974.39\n"
     ]
    },
    {
     "data": {
      "image/png": "[encoded data removed]",
      "text/plain": [
       "<Figure size 432x288 with 1 Axes>"
      ]
     },
     "metadata": {
      "needs_background": "light"
     },
     "output_type": "display_data"
    }
   ],
   "source": [
    "from turtle import width\n",
    "from sklearn.linear_model import LinearRegression\n",
    "from sklearn.metrics import mean_squared_error\n",
    "from matplotlib import pyplot as plt\n",
    "\n",
    "# Check with sklearn linear regressor\n",
    "x = df_income_by_age.age.values.reshape(-1, 1)\n",
    "y = df_income_by_age[\"2020\"].values\n",
    "\n",
    "def fit_predict(x, y):\n",
    "    linear_regressor = LinearRegression()\n",
    "    linear_regressor.fit(x, y)\n",
    "\n",
    "    # Make predictions using the testing set\n",
    "    y_pred = linear_regressor.predict(x)\n",
    "\n",
    "    # The coefficients\n",
    "    print(\"Coefficients: \\n\", linear_regressor.coef_)\n",
    "    # The mean squared error\n",
    "    print(\"Mean squared error: %.2f\" % mean_squared_error(y, y_pred))\n",
    "\n",
    "    return y_pred\n",
    "\n",
    "def plot_regression(x, y, y_pred):\n",
    "\n",
    "    # Plot outputs\n",
    "    plt.scatter(x, y, color=\"black\", s=1)\n",
    "    plt.plot(x, y_pred, color=\"blue\", linewidth=1)\n",
    "    plt.show()\n",
    "\n",
    "y_pred = fit_predict(x, y)\n",
    "plot_regression(x, y, y_pred)"
   ]
  },
  {
   "cell_type": "markdown",
   "metadata": {},
   "source": [
    "The MSE values and plot are the same as in lab 2"
   ]
  },
  {
   "cell_type": "markdown",
   "metadata": {},
   "source": [
    "## Task 2 - Polynomial regression with hyperparameter optimization"
   ]
  },
  {
   "cell_type": "code",
   "execution_count": 6,
   "metadata": {},
   "outputs": [
    {
     "name": "stdout",
     "output_type": "stream",
     "text": [
      "degree 1 mse 9974.389821928748\n",
      "degree 2 mse 2472.430468001994\n",
      "degree 3 mse 210.5745996792746\n",
      "degree 4 mse 193.6725553996026\n",
      "degree 5 mse 186.8670736415558\n",
      "degree 6 mse 71.84554051648777\n",
      "degree 7 mse 68.06751971296345\n",
      "degree 8 mse 53.42410605497298\n",
      "degree 9 mse 64.4310030453029\n",
      "degree 10 mse 607.9651085529713\n",
      "degree 11 mse 1002.7401607756846\n",
      "degree 12 mse 1526.0189713349478\n",
      "degree 13 mse 2153.192767218665\n",
      "degree 14 mse 2846.6396842132676\n",
      "degree 15 mse 3565.1970224338365\n",
      "The lowest MSE (53.42410605497298) was found for degree = 8\n"
     ]
    }
   ],
   "source": [
    "from sklearn.preprocessing import PolynomialFeatures\n",
    "import itertools\n",
    "\n",
    "def objective(degree):\n",
    "    \n",
    "    trans = PolynomialFeatures(degree=degree)\n",
    "    x_new = trans.fit_transform(x)\n",
    "\n",
    "    linear_regressor = LinearRegression()\n",
    "    linear_regressor.fit(x_new, y)\n",
    "\n",
    "    # Make predictions using the testing set\n",
    "    y_pred = linear_regressor.predict(x_new)\n",
    "\n",
    "    mse = mean_squared_error(y, y_pred)\n",
    "\n",
    "    print(f\"degree {degree} mse {mse}\")\n",
    "\n",
    "    return mse\n",
    "\n",
    "# Define a simple grid search function that takes an objective function and will run it for all permutations of\n",
    "# supplied argument ranges. For this part of the lab, we are only going to do a search on onr parameter (degree)\n",
    "# but let's implement a more generic grid search that can search with multiple parameters. It will search for \n",
    "# the lowest value returned by the objective function\n",
    "def simple_grid_search(fn_objective, args):\n",
    "\n",
    "    # Get the grid values for all parameters\n",
    "    all_grid_values = [v for _, v in args.items()]\n",
    "\n",
    "    # Generate a dictionary of parameters & values for each step in the grid (essentially a cartesian \n",
    "    # product of all the parameter values)\n",
    "    all_steps = []\n",
    "    for element in itertools.product(*all_grid_values):\n",
    "        all_steps.append({k:v for k,v in zip(args.keys(), element)})\n",
    "\n",
    "    # Run the grid search\n",
    "    grid_results = [fn_objective(**step) for step in all_steps]\n",
    "        \n",
    "    ix_best = np.argmin(grid_results)\n",
    "\n",
    "    return all_steps[ix_best], grid_results[ix_best]\n",
    "    print(objective_results)\n",
    "    #y_pred = fit_predict(x_new, y)\n",
    "    #plot_regression(x, y, y_pred)\n",
    "\n",
    "\n",
    "best_parameters, best_mse = simple_grid_search(objective, {\"degree\" : np.arange(1,16)})\n",
    "best_degree = best_parameters[\"degree\"]\n",
    "\n",
    "print(f\"The lowest MSE ({best_mse}) was found for degree = {best_parameters['degree']}\")"
   ]
  },
  {
   "cell_type": "code",
   "execution_count": 7,
   "metadata": {},
   "outputs": [
    {
     "data": {
      "image/png": "[encoded data removed]",
      "text/plain": [
       "<Figure size 432x288 with 1 Axes>"
      ]
     },
     "metadata": {
      "needs_background": "light"
     },
     "output_type": "display_data"
    }
   ],
   "source": [
    "# Rerun the best case \n",
    "trans = PolynomialFeatures(degree=best_degree)\n",
    "x_new = trans.fit_transform(x)\n",
    "\n",
    "linear_regressor = LinearRegression()\n",
    "linear_regressor.fit(x_new, y)\n",
    "\n",
    "# Plot it together with the non polynomial regression\n",
    "y_pred_new = linear_regressor.predict(x_new)\n",
    "\n",
    "# Plot outputs\n",
    "plt.scatter(x, y, color=\"black\", s=1)\n",
    "plt.plot(x, y_pred, color=\"red\", linewidth=1)\n",
    "plt.plot(x, y_pred_new, color=\"green\", linewidth=1)\n",
    "plt.xlabel(\"Predictor\")\n",
    "plt.ylabel(\"Target\")\n",
    "\n",
    "plt.legend([\"Linear regressor\", \"Polynomial regressor\"])\n",
    "plt.show()"
   ]
  },
  {
   "cell_type": "markdown",
   "metadata": {},
   "source": [
    "The linear regressor has an MSE of ca 9974 and the polynomial regressor with degree 8 (which was found via grid search) has an MSE of 53. The polynomial regressor has thus a significantly better fit to the data set (income by age) than the Linear regressor. The main reason for this is that the underlying data is not linear, and fits a polynomial model significantly better than a linear one. This is clearly seen in the plot above as well."
   ]
  },
  {
   "cell_type": "markdown",
   "metadata": {},
   "source": [
    "## Task 3 Clustering with K-means\n"
   ]
  },
  {
   "cell_type": "code",
   "execution_count": 8,
   "metadata": {},
   "outputs": [
    {
     "data": {
      "text/html": [
       "<div>\n",
       "<style scoped>\n",
       "    .dataframe tbody tr th:only-of-type {\n",
       "        vertical-align: middle;\n",
       "    }\n",
       "\n",
       "    .dataframe tbody tr th {\n",
       "        vertical-align: top;\n",
       "    }\n",
       "\n",
       "    .dataframe thead th {\n",
       "        text-align: right;\n",
       "    }\n",
       "</style>\n",
       "<table border=\"1\" class=\"dataframe\">\n",
       "  <thead>\n",
       "    <tr style=\"text-align: right;\">\n",
       "      <th></th>\n",
       "      <th>year</th>\n",
       "      <th>region</th>\n",
       "      <th>Annual rent sqm</th>\n",
       "      <th>Avg yearly inc KSEK</th>\n",
       "    </tr>\n",
       "  </thead>\n",
       "  <tbody>\n",
       "    <tr>\n",
       "      <th>0</th>\n",
       "      <td>2020</td>\n",
       "      <td>01 Stockholm county</td>\n",
       "      <td>1341</td>\n",
       "      <td>350.303704</td>\n",
       "    </tr>\n",
       "    <tr>\n",
       "      <th>1</th>\n",
       "      <td>2020</td>\n",
       "      <td>03 Uppsala county</td>\n",
       "      <td>1303</td>\n",
       "      <td>306.916049</td>\n",
       "    </tr>\n",
       "    <tr>\n",
       "      <th>2</th>\n",
       "      <td>2020</td>\n",
       "      <td>04 Södermanland county</td>\n",
       "      <td>1129</td>\n",
       "      <td>283.756790</td>\n",
       "    </tr>\n",
       "    <tr>\n",
       "      <th>3</th>\n",
       "      <td>2020</td>\n",
       "      <td>05 Östergötland county</td>\n",
       "      <td>1144</td>\n",
       "      <td>289.500000</td>\n",
       "    </tr>\n",
       "    <tr>\n",
       "      <th>4</th>\n",
       "      <td>2020</td>\n",
       "      <td>06 Jönköping county</td>\n",
       "      <td>1044</td>\n",
       "      <td>287.470370</td>\n",
       "    </tr>\n",
       "  </tbody>\n",
       "</table>\n",
       "</div>"
      ],
      "text/plain": [
       "   year                  region  Annual rent sqm  Avg yearly inc KSEK\n",
       "0  2020     01 Stockholm county             1341           350.303704\n",
       "1  2020       03 Uppsala county             1303           306.916049\n",
       "2  2020  04 Södermanland county             1129           283.756790\n",
       "3  2020  05 Östergötland county             1144           289.500000\n",
       "4  2020     06 Jönköping county             1044           287.470370"
      ]
     },
     "execution_count": 8,
     "metadata": {},
     "output_type": "execute_result"
    }
   ],
   "source": [
    "df_income_vs_rent = pd.read_csv(\"inc_vs_rent.csv\", index_col=0)\n",
    "df_income_vs_rent.head()"
   ]
  },
  {
   "cell_type": "markdown",
   "metadata": {},
   "source": [
    "The data set appears to contain information about average rent in a rental apartment by year and region"
   ]
  },
  {
   "cell_type": "code",
   "execution_count": 9,
   "metadata": {},
   "outputs": [
    {
     "data": {
      "text/plain": [
       "<AxesSubplot:xlabel='Annual rent sqm', ylabel='Avg yearly inc KSEK'>"
      ]
     },
     "execution_count": 9,
     "metadata": {},
     "output_type": "execute_result"
    },
    {
     "data": {
      "image/png": "[encoded data removed]",
      "text/plain": [
       "<Figure size 432x288 with 1 Axes>"
      ]
     },
     "metadata": {
      "needs_background": "light"
     },
     "output_type": "display_data"
    }
   ],
   "source": [
    "# We start by creating a scatter plot for the data points, relating square meters to rent.\n",
    "df_income_vs_rent.plot.scatter(x=\"Annual rent sqm\", y=\"Avg yearly inc KSEK\")"
   ]
  },
  {
   "cell_type": "code",
   "execution_count": 43,
   "metadata": {},
   "outputs": [
    {
     "name": "stdout",
     "output_type": "stream",
     "text": [
      "Converged at iteration 2\n"
     ]
    },
    {
     "data": {
      "text/plain": [
       "<seaborn.axisgrid.FacetGrid at 0x7fe2b0e06c10>"
      ]
     },
     "execution_count": 43,
     "metadata": {},
     "output_type": "execute_result"
    },
    {
     "data": {
      "image/png": "[encoded data removed]",
      "text/plain": [
       "<Figure size 402.375x360 with 1 Axes>"
      ]
     },
     "metadata": {
      "needs_background": "light"
     },
     "output_type": "display_data"
    }
   ],
   "source": [
    "from random import randint\n",
    "\n",
    "def eucledian_distance(a, b):\n",
    "    return np.sqrt(np.sum((a - b)**2, axis=1))\n",
    "\n",
    "def my_kmeans(data, clusters, fn_distance, max_iterations = 10):\n",
    "\n",
    "    # Randomly select centroid start points from the dataset, we need as many centroids as the wanted number of clusters\n",
    "    centroids = [data[randint(0,data.shape[0]-1)] for _ in range(clusters)]\n",
    "\n",
    "    # Iterate and adjust centroids until we have convergence (or iterations > max_iterations)\n",
    "    iter = 0\n",
    "\n",
    "    while iter < max_iterations:\n",
    "\n",
    "        # Find the closest centroid for each point, by checking the distance between all points and centroids\n",
    "        closest_points_to_centroid = [[] for _ in range(clusters)]\n",
    "\n",
    "        for x in data:\n",
    "            # Find the closest centroid\n",
    "            centroid_idx = np.argmin(fn_distance(x, centroids))\n",
    "            # Add to list of points for the given centroid\n",
    "            closest_points_to_centroid[centroid_idx].append(x)\n",
    "\n",
    "        # Let's calculate new centroids by taking the mean of all the points in each cluster\n",
    "        new_centroids = [[] for _ in range(clusters)]\n",
    "\n",
    "        for i, cluster_points in enumerate(closest_points_to_centroid):\n",
    "\n",
    "            if len(cluster_points) == 0:\n",
    "                # Empty cluster, let's use the old centroid\n",
    "                new_centroids[i] = centroids[i]\n",
    "            else:\n",
    "                # Get the mean\n",
    "                new_centroids[i] = np.mean(cluster_points, axis=0)\n",
    "        \n",
    "        # If the new centroids are the same as the last then we have converged\n",
    "        if np.all(np.equal(centroids, new_centroids)):\n",
    "            print(\"Converged at iteration\", iter)\n",
    "            break\n",
    "\n",
    "        centroids = new_centroids\n",
    "        iter += 1\n",
    "\n",
    "    # We now have the converged (or we have reached max iterations) centroids now, go through a final\n",
    "    # time and assign points to each of the clusters/centroids and return both the centroids as well\n",
    "    # as the centroid/cluster assignment\n",
    "    all_centroids = []\n",
    "    all_centroid_idxs = []\n",
    "\n",
    "    for x in data:\n",
    "        centroid_idx = np.argmin(fn_distance(x, centroids))\n",
    "        all_centroids.append(centroids[centroid_idx])\n",
    "        all_centroid_idxs.append(centroid_idx)\n",
    "\n",
    "    return all_centroids, all_centroid_idxs\n",
    "\n",
    "x = df_income_vs_rent[[\"Annual rent sqm\", \"Avg yearly inc KSEK\"]].values.astype(np.float32)\n",
    "centroids, ix_cluster = my_kmeans(x, 3, fn_distance = eucledian_distance)\n",
    "\n",
    "# Add the assigned cluster to the data frame\n",
    "df_income_vs_rent[\"cluster\"] = ix_cluster\n",
    "\n",
    "# Do a scatter plot again but this time color the points with the cluster index\n",
    "import seaborn as sns\n",
    "sns.lmplot(x=\"Annual rent sqm\", y=\"Avg yearly inc KSEK\", data=df_income_vs_rent, hue=\"cluster\", fit_reg=False)\n"
   ]
  }
 ],
 "metadata": {
  "kernelspec": {
   "display_name": "Python 3.9.7 ('base')",
   "language": "python",
   "name": "python3"
  },
  "language_info": {
   "codemirror_mode": {
    "name": "ipython",
    "version": 3
   },
   "file_extension": ".py",
   "mimetype": "text/x-python",
   "name": "python",
   "nbconvert_exporter": "python",
   "pygments_lexer": "ipython3",
   "version": "3.9.7"
  },
  "orig_nbformat": 4,
  "vscode": {
   "interpreter": {
    "hash": "2b42d7587ec20cbec5074418aafeeede2820f3367fcd849a88c3acb0e4c010fd"
   }
  }
 },
 "nbformat": 4,
 "nbformat_minor": 2
}
